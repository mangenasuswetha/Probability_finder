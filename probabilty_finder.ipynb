{
 "cells": [
  {
   "cell_type": "code",
   "execution_count": null,
   "id": "4780cac1",
   "metadata": {},
   "outputs": [],
   "source": [
    "from statistics import NormalDist\n",
    "print(\"Welcome To The Probability Distribution Calculator\")\n",
    "mean = int(input(\"Enter the mean value: \"))\n",
    "sd = int(input(\"Enter the standard deviation value: \"))\n",
    "value1 = int(input(\"Enter the first value: \"))\n",
    "value2 = int(input(\"Enter the second value: \"))\n",
    "nd = NormalDist(mu=mean ,sigma=sd)\n",
    "cdf1=nd.cdf(value1)\n",
    "cdf2=nd.cdf(value2)\n",
    "print(\"cdf1 is\",cdf1)\n",
    "print(\"cdf2 is\",cdf2)\n",
    "value=round(abs(cdf1-cdf2),3)\n",
    "value=value*100 \n",
    "print(\"The Normal Distribution is: \",value,\"%\")"
   ]
  }
 ],
 "metadata": {
  "kernelspec": {
   "display_name": "Python 3 (ipykernel)",
   "language": "python",
   "name": "python3"
  },
  "language_info": {
   "codemirror_mode": {
    "name": "ipython",
    "version": 3
   },
   "file_extension": ".py",
   "mimetype": "text/x-python",
   "name": "python",
   "nbconvert_exporter": "python",
   "pygments_lexer": "ipython3",
   "version": "3.9.7"
  }
 },
 "nbformat": 4,
 "nbformat_minor": 5
}
